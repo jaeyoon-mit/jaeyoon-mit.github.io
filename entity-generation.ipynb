{
 "cells": [
  {
   "cell_type": "code",
   "execution_count": 29,
   "id": "58894a8f-ef80-4eff-844f-1c3487643755",
   "metadata": {},
   "outputs": [],
   "source": [
    "import pandas as pd\n",
    "import numpy as np\n",
    "import json"
   ]
  },
  {
   "cell_type": "code",
   "execution_count": 30,
   "id": "992392e2-c40d-45f7-a7ed-122dd796abdf",
   "metadata": {},
   "outputs": [
    {
     "data": {
      "text/plain": [
       "5"
      ]
     },
     "execution_count": 30,
     "metadata": {},
     "output_type": "execute_result"
    }
   ],
   "source": [
    "calendars = []\n",
    "for i in range(5):\n",
    "    with open('calendar' + str(i + 1) + '.json') as json_data:\n",
    "        data = json.load(json_data)\n",
    "        calendars.append(data)\n",
    "len(calendars)"
   ]
  },
  {
   "cell_type": "code",
   "execution_count": 31,
   "id": "7e925b96-ac7d-4702-927b-732d13320daf",
   "metadata": {},
   "outputs": [
    {
     "name": "stdout",
     "output_type": "stream",
     "text": [
      "139\n",
      "103\n",
      "110\n",
      "189\n",
      "195\n"
     ]
    }
   ],
   "source": [
    "for calendar in calendars:\n",
    "    print(len(calendar))"
   ]
  },
  {
   "cell_type": "code",
   "execution_count": 32,
   "id": "a9b64736-eb37-4904-a186-9aa7eb63686d",
   "metadata": {},
   "outputs": [
    {
     "name": "stdout",
     "output_type": "stream",
     "text": [
      "36\n",
      "[{'name': 'Maya Gonzalez', 'relation': 'coworker'}, {'name': 'Eric Kim', 'relation': 'coworker'}, {'name': 'Luis Ramirez', 'relation': 'coworker'}, {'name': 'Kevin Liu', 'relation': 'friend'}, {'name': 'Broken Spanish', 'relation': 'favorite restaurant'}, {'name': 'Priya Patel', 'relation': 'coworker'}, {'name': 'Natalie Chen', 'relation': 'creative director'}, {'name': 'The Echo', 'relation': 'music venue'}, {'name': 'PilatesWorks Studio', 'relation': 'fitness studio'}, {'name': 'Dr. Evelyn Hart', 'relation': 'dermatologist'}, {'name': 'Sofia Torres', 'relation': 'friend'}, {'name': 'Guelaguetza', 'relation': 'favorite restaurant'}, {'name': 'Juliana Rivera', 'relation': 'friend'}, {'name': 'Best Friend', 'relation': 'favorite restaurant'}, {'name': 'Jiffy Lube Los Feliz', 'relation': 'car service'}, {'name': 'Daniel Park', 'relation': 'friend'}, {'name': 'Kogi Taqueria', 'relation': 'favorite restaurant'}, {'name': 'Aeromexico', 'relation': 'airline'}, {'name': 'Hotel Condesa DF', 'relation': 'hotel'}, {'name': 'Laura Gutierrez', 'relation': 'friend'}, {'name': 'Miguel Alvarez', 'relation': 'friend'}, {'name': 'La Casita Mexicana', 'relation': 'favorite restaurant'}, {'name': 'Teragram Ballroom', 'relation': 'music venue'}, {'name': 'Style Loft Salon', 'relation': 'hair salon'}, {'name': 'Dr. Carlos Ortiz', 'relation': 'dentist'}, {'name': 'Southwest Airlines', 'relation': 'airline'}, {'name': 'SXSW Festival', 'relation': 'music festival'}, {'name': 'Night + Market Song', 'relation': 'favorite restaurant'}, {'name': 'Hollywood Bowl', 'relation': 'music venue'}, {'name': 'Silver Lake Animal Hospital', 'relation': 'veterinarian'}, {'name': 'YMCA Downtown LA', 'relation': 'gym'}, {'name': 'Treasures Korean-Mexican Fusion', 'relation': 'favorite restaurant'}, {'name': 'Pendry San Diego', 'relation': 'hotel'}, {'name': 'San Diego Zoo', 'relation': 'attraction'}, {'name': 'Greek Theatre LA', 'relation': 'music venue'}, {'name': 'Hop Woo BBQ', 'relation': 'favorite restaurant'}]\n",
      "23\n",
      "[{'name': 'Riverside Pediatrics Clinic', 'relation': 'clinic'}, {'name': 'Dr. Emily Foster', 'relation': 'coworker'}, {'name': 'Nurse Sarah Lee', 'relation': 'coworker'}, {'name': 'Tom Johnson', 'relation': 'office manager'}, {'name': 'Alex Chen', 'relation': 'son'}, {'name': 'Coach Ryan Walker', 'relation': 'soccer coach'}, {'name': 'Grace Chen', 'relation': 'daughter'}, {'name': 'Ms. Abigail Green', 'relation': 'band director'}, {'name': 'Linda Chen', 'relation': 'wife'}, {'name': 'Dr. Maria Gonzales', 'relation': 'primary care physician'}, {'name': 'Twin Cities HVAC Services', 'relation': 'technician'}, {'name': 'Amy Johnson', 'relation': 'neighbor'}, {'name': 'Mark Johnson', 'relation': 'neighbor'}, {'name': 'Dr. Alan Baker', 'relation': 'dentist'}, {'name': 'Voyageur Cabins', 'relation': 'cabin rental'}, {'name': 'Valvoline Maple Grove', 'relation': 'car service'}, {'name': 'Lakeview PTA Board', 'relation': 'PTA'}, {'name': 'VisionWorks Plymouth', 'relation': 'optometrist'}, {'name': 'Dr. Helen Shafer', 'relation': 'dermatologist'}, {'name': 'Elm Creek Volunteer Org', 'relation': 'community organization'}, {'name': 'Dr. Kevin Wu', 'relation': 'friend'}, {'name': 'Maple Grove Salon', 'relation': 'hair salon'}, {'name': 'Cafe Lurcat', 'relation': 'restaurant'}]\n",
      "34\n",
      "[{'name': 'Nathan Thompson', 'relation': 'client'}, {'name': 'InkRiver Studio', 'relation': 'studio'}, {'name': 'Riley Dupont', 'relation': 'studio apprentice'}, {'name': 'Noah Cooper', 'relation': 'client'}, {'name': 'Bywater Arts Collective', 'relation': 'community organization'}, {'name': 'Piper Mitchell', 'relation': 'client'}, {'name': 'Rowan Thompson', 'relation': 'client'}, {'name': 'Casey Ortiz', 'relation': 'client'}, {'name': 'Nathan Carter', 'relation': 'client'}, {'name': 'NOLA Ink Supply', 'relation': 'equipment vendor'}, {'name': 'Kai Turner', 'relation': 'client'}, {'name': 'Piper Rodriguez', 'relation': 'client'}, {'name': \"Luna O'Connor\", 'relation': 'client'}, {'name': 'Isabella Young', 'relation': 'client'}, {'name': 'Finn Price', 'relation': 'client'}, {'name': 'Asher Bell', 'relation': 'client'}, {'name': \"Adrian O'Connor\", 'relation': 'client'}, {'name': 'Dylan Ramos', 'relation': 'client'}, {'name': 'Finn Lee', 'relation': 'client'}, {'name': 'Adrian Long', 'relation': 'client'}, {'name': 'Jude Rivera', 'relation': 'client'}, {'name': 'Ruby Foster', 'relation': 'client'}, {'name': 'Gavin Rivera', 'relation': 'client'}, {'name': 'Quinn Adams', 'relation': 'client'}, {'name': 'Michaels', 'relation': 'art supply'}, {'name': 'Isabella Chavez', 'relation': 'client'}, {'name': 'Luna Howard', 'relation': 'client'}, {'name': 'Bywater Auto Care', 'relation': 'car service'}, {'name': 'Asher Mitchell', 'relation': 'client'}, {'name': 'Theo Smith', 'relation': 'client'}, {'name': 'Owen Ortiz', 'relation': 'client'}, {'name': 'Aeromexico', 'relation': 'airline'}, {'name': 'Zoe Bell', 'relation': 'client'}, {'name': 'Ella Reed', 'relation': 'client'}]\n",
      "24\n",
      "[{'name': \"Liam O'Connor\", 'relation': 'friend'}, {'name': 'Sophie Lee', 'relation': 'friend'}, {'name': 'Tatte Bakery & Cafe', 'relation': 'favorite cafe'}, {'name': 'Raj Patel', 'relation': 'father'}, {'name': 'Anika Patel', 'relation': 'mother'}, {'name': 'Emily Chen', 'relation': 'manager'}, {'name': 'Alex Nguyen', 'relation': 'coworker'}, {'name': 'Priya Desai', 'relation': 'coworker'}, {'name': 'Carlos Ramirez', 'relation': 'coworker'}, {'name': 'Yuki Sato', 'relation': 'language tutor'}, {'name': 'MIT Hackathon', 'relation': 'event organizer'}, {'name': 'Evan Brooks', 'relation': 'friend'}, {'name': 'Mount Snow Resort', 'relation': 'ski resort'}, {'name': 'Allston Auto Repair', 'relation': 'auto service'}, {'name': 'Clip Joint Barbershop', 'relation': 'barbershop'}, {'name': 'Dr. Laura Chan', 'relation': 'dentist'}, {'name': 'Dr. Michael Rios', 'relation': 'primary care physician'}, {'name': 'Amtrak', 'relation': 'train'}, {'name': 'Brooklyn Tech Collective', 'relation': 'event organizer'}, {'name': 'Blue Bottle Coffee', 'relation': 'coffee shop'}, {'name': 'Arcadia Robotics', 'relation': 'employer'}, {'name': 'Kevin Zhou', 'relation': 'friend'}, {'name': 'Santouka Ramen', 'relation': 'favorite restaurant'}, {'name': 'Maya Patel', 'relation': 'cousin'}]\n",
      "16\n",
      "[{'name': 'Linda Jenkins', 'relation': 'sister'}, {'name': 'Michael Dawson', 'relation': 'husband'}, {'name': 'USPS Asheville Main Post Office', 'relation': 'post office'}, {'name': 'Nora Patel', 'relation': 'neighbor'}, {'name': 'Gloria Ramirez', 'relation': 'neighbor'}, {'name': 'Ethan Price', 'relation': 'neighbor'}, {'name': 'Sarah Kim', 'relation': 'neighbor'}, {'name': 'Dr. Evelyn Hart', 'relation': 'dentist'}, {'name': 'Lila Monroe', 'relation': 'hairdresser'}, {'name': 'Blue Ridge Auto Service', 'relation': 'auto service'}, {'name': 'American Booksellers Association', 'relation': 'professional org'}, {'name': 'Emma Wiles', 'relation': 'friend'}, {'name': 'Sunny Point Cafe', 'relation': 'favorite restaurant'}, {'name': 'Asheville Civic Center', 'relation': 'event venue'}, {'name': 'Savannah Tour Company', 'relation': 'tour operator'}, {'name': 'High Five Coffee', 'relation': 'cafe'}]\n"
     ]
    }
   ],
   "source": [
    "for calendar in calendars:\n",
    "    entities = []\n",
    "    for entry in calendar:\n",
    "        for entity in entry[\"related_entities\"]:\n",
    "            found = [x for x in entities if x[\"name\"] == entity[\"name\"]]\n",
    "            if len(found) == 0:\n",
    "                entities.append(entity)\n",
    "    print(len(entities))\n",
    "    print(entities)"
   ]
  },
  {
   "cell_type": "code",
   "execution_count": 34,
   "id": "ba6f1bd4-81a2-4594-addb-48e8f28a3612",
   "metadata": {},
   "outputs": [
    {
     "data": {
      "text/plain": [
       "5"
      ]
     },
     "execution_count": 34,
     "metadata": {},
     "output_type": "execute_result"
    }
   ],
   "source": [
    "entities = []\n",
    "for i in range(5):\n",
    "    with open('entities/entities' + str(i + 1) + '.json') as json_data:\n",
    "        data = json.load(json_data)\n",
    "        entities.append(data)\n",
    "len(entities)"
   ]
  },
  {
   "cell_type": "code",
   "execution_count": 35,
   "id": "cf5a4c52-80a0-4d28-ae63-f6aef197e1a3",
   "metadata": {},
   "outputs": [
    {
     "name": "stdout",
     "output_type": "stream",
     "text": [
      "36\n",
      "23\n",
      "34\n",
      "24\n",
      "16\n"
     ]
    }
   ],
   "source": [
    "for e in entities:\n",
    "    print(len(e))"
   ]
  },
  {
   "cell_type": "code",
   "execution_count": null,
   "id": "2945aaa7-f57e-447a-a882-f8e7730e5797",
   "metadata": {},
   "outputs": [],
   "source": []
  }
 ],
 "metadata": {
  "kernelspec": {
   "display_name": "Python 3 (ipykernel)",
   "language": "python",
   "name": "python3"
  },
  "language_info": {
   "codemirror_mode": {
    "name": "ipython",
    "version": 3
   },
   "file_extension": ".py",
   "mimetype": "text/x-python",
   "name": "python",
   "nbconvert_exporter": "python",
   "pygments_lexer": "ipython3",
   "version": "3.12.2"
  }
 },
 "nbformat": 4,
 "nbformat_minor": 5
}
